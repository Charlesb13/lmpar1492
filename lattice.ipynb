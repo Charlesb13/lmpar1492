{
 "cells": [
  {
   "cell_type": "code",
   "execution_count": 5,
   "id": "77554ba4",
   "metadata": {},
   "outputs": [
    {
     "data": {
      "application/vnd.jupyter.widget-view+json": {
       "model_id": "a07c8f5fc62d4b9cb89e15c23d98fbd1",
       "version_major": 2,
       "version_minor": 0
      },
      "text/plain": [
       "Retrieving MaterialsDoc documents:   0%|          | 0/1 [00:00<?, ?it/s]"
      ]
     },
     "metadata": {},
     "output_type": "display_data"
    },
    {
     "data": {
      "application/vnd.jupyter.widget-view+json": {
       "model_id": "23f6aa170f49417daee3f20e505ab98c",
       "version_major": 2,
       "version_minor": 0
      },
      "text/plain": [
       "Retrieving ElectronicStructureDoc documents:   0%|          | 0/1 [00:00<?, ?it/s]"
      ]
     },
     "metadata": {},
     "output_type": "display_data"
    },
    {
     "data": {
      "application/vnd.jupyter.widget-view+json": {
       "model_id": "b4c69a355afc4de48bd6e53628251591",
       "version_major": 2,
       "version_minor": 0
      },
      "text/plain": [
       "Retrieving ElectronicStructureDoc documents:   0%|          | 0/1 [00:00<?, ?it/s]"
      ]
     },
     "metadata": {},
     "output_type": "display_data"
    }
   ],
   "source": [
    "from pymatgen.ext.matproj import MPRester\n",
    "with MPRester(\"n58KMF7umZMAJXouXDJc0vORWlcEfEsD\") as m:\n",
    "    struct = m.get_structure_by_material_id(\"mp-23209\")\n",
    "    dos = m.get_dos_by_material_id(\"mp-23209\")\n",
    "    bands = m.get_bandstructure_by_material_id(\"mp-23209\")"
   ]
  },
  {
   "cell_type": "code",
   "execution_count": 6,
   "id": "53558350",
   "metadata": {},
   "outputs": [
    {
     "data": {
      "application/vnd.jupyter.widget-view+json": {
       "model_id": "f26b1f036a5c4c56be4035fedef3f6fd",
       "version_major": 2,
       "version_minor": 0
      },
      "text/plain": [
       "Retrieving MaterialsDoc documents:   0%|          | 0/1 [00:00<?, ?it/s]"
      ]
     },
     "metadata": {},
     "output_type": "display_data"
    },
    {
     "name": "stdout",
     "output_type": "stream",
     "text": [
      "Vecteurs du réseau direct :\n",
      " [[ 4.28629736e+00 -1.00000000e-08  2.47469380e+00]\n",
      " [ 1.42876578e+00  4.04115988e+00  2.47469380e+00]\n",
      " [-2.00000000e-08 -1.00000000e-08  4.94939066e+00]]\n",
      "\n",
      "Vecteurs du réseau réciproque :\n",
      " [[ 1.46587713e+00 -5.18265835e-01  4.87633448e-09]\n",
      " [ 1.81368479e-09  1.55479750e+00  3.14139177e-09]\n",
      " [-7.32938115e-01 -5.18265514e-01  1.26948663e+00]]\n",
      "\n",
      "Type de maille : cubic\n",
      "Système cristallin : cubic\n",
      "\n",
      "Groupe ponctuel : m-3m\n"
     ]
    }
   ],
   "source": [
    "from pymatgen.symmetry.analyzer import SpacegroupAnalyzer\n",
    "from pymatgen.analysis.diffraction import xrd\n",
    "from pymatgen.core.lattice import Lattice\n",
    "with MPRester(\"n58KMF7umZMAJXouXDJc0vORWlcEfEsD\") as m:\n",
    "    struct = m.get_structure_by_material_id(\"mp-23209\")\n",
    "direct_v = struct.lattice.matrix\n",
    "reciprocal_v = Lattice(direct_v).reciprocal_lattice.matrix\n",
    "print(\"Vecteurs du réseau direct :\\n\", direct_v)\n",
    "print(\"\\nVecteurs du réseau réciproque :\\n\", reciprocal_v)\n",
    "analyzer = SpacegroupAnalyzer(struct)\n",
    "print(\"\\nType de maille :\", analyzer.get_lattice_type())\n",
    "print(\"Système cristallin :\", analyzer.get_crystal_system())\n",
    "print(\"\\nGroupe ponctuel :\", analyzer.get_point_group_symbol())"
   ]
  }
 ],
 "metadata": {
  "kernelspec": {
   "display_name": "Python 3 (ipykernel)",
   "language": "python",
   "name": "python3"
  },
  "language_info": {
   "codemirror_mode": {
    "name": "ipython",
    "version": 3
   },
   "file_extension": ".py",
   "mimetype": "text/x-python",
   "name": "python",
   "nbconvert_exporter": "python",
   "pygments_lexer": "ipython3",
   "version": "3.9.13"
  }
 },
 "nbformat": 4,
 "nbformat_minor": 5
}
